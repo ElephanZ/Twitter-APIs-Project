{
 "cells": [
  {
   "cell_type": "markdown",
   "id": "b17d9163",
   "metadata": {},
   "source": [
    "<p style=\"text-align: center; font-size: 35px;\"><b>Social Media Mangement</b></p>\n",
    "<p style=\"margin-top: -20px; text-align: center; font-size: 27px;\"><b>Twitter APIs Tutorial</b></p>\n",
    "<p style=\"margin-top: -10px; text-align: center; font-size: 20px;\"><b>Analysis of the Use of Twitter by Italian Politicians</b></p>\n"
   ]
  },
  {
   "cell_type": "markdown",
   "id": "968a1073",
   "metadata": {},
   "source": [
    "## Introduction\n",
    "\n",
    "Twitter is a social networking service - launched on July 2006 - on which users post and interact with messages known as 'tweets'. Registered users can post, like, retweet, and comment other users tweets. Unregistered users can just read public tweets. \n",
    "\n",
    "Users can interact with Twitter in two different ways: the user-friendly interface (web or mobile version) or programmatically via its APIs. Twitter is also recognized for having one of the most open developer APIs.<br/>\n",
    "For any additional information you can visit the web page https://developer.twitter.com/en.\n",
    "\n",
    "The main focus of this tutorial is to get italian politicians data and make stats about them.<br/>\n",
    "Probably, Twitter is the best platform to fetch this data because it's the most used by politicians to write about politic. "
   ]
  },
  {
   "cell_type": "markdown",
   "id": "46ef3b34",
   "metadata": {},
   "source": [
    "## Creation of the Developer Profile and Application\n",
    "In order, to use the Twitter APIs, you have to follow some steps:\n",
    "1. If you already have a developer account related to your user account, you can move on to step **4** of the list.<br/>\n",
    "2. You have to create a normal Twitter user profile at [https://twitter.com/](https://twitter.com/).\n",
    "   \n",
    "    <img src=\"https://antonioscardace.altervista.org/smm/signup.png\" alt=\"tutorial image\" style=\"width: 90%; max-width: 500px; margin: 10px 0; border: 1px solid #555\"/>\n",
    "    \n",
    "3. You have to create a developer account related to your user profile. To do this get a look [here](https://developer.twitter.com/en/apply-for-access).\n",
    "   \n",
    "    <img src=\"https://antonioscardace.altervista.org/smm/developer.png\" alt=\"tutorial image\" style=\"width: 550px; margin: 10px 0; border: 1px solid #555\"/>\n",
    "\n",
    "4. You need to apply for developer tools. To do that, you will be then asked how will you use Twitter APIs and data. I have selected \"Academic &#8594; Student\".\n",
    "   \n",
    "    <img src=\"https://antonioscardace.altervista.org/smm/student.png\" alt=\"tutorial image\" style=\"width: 900px; margin: 10px 0; border: 1px solid #555\"/>\n",
    "\n",
    "5. You will then be asked to confirm your email and your number phone, and to add other personal information (*name, country, current coding skills level*).\n",
    "   \n",
    "    <img src=\"https://antonioscardace.altervista.org/smm/data_confirm.png\" alt=\"tutorial image\" style=\"width: 800px; margin: 10px 0; border: 1px solid #555\"/>\n",
    "\n",
    "6. Then, you need to explain how will you use the Twitter APIs and data, and to describe the kind of operations you will do (just retreive tweets, interact with istitutional accounts, post tweets, or something else).\n",
    "   - I suggest to be specific and clear in your answers otherwise they will send you an email with a list of questions to better understand your intents.\n",
    "   \n",
    "    <img src=\"https://antonioscardace.altervista.org/smm/describe.png\" alt=\"tutorial image\" style=\"width: 780px; margin: 10px 0; border: 1px solid #555\"/>\n",
    "    <img src=\"https://antonioscardace.altervista.org/smm/email.png\" alt=\"tutorial image\" style=\"width: 600px; margin: 10px 0; border: 1px solid #555\"/>\n",
    "\n",
    "7.  After one or two days you will be contacted - I hope - to confirm the success of your application. Then accept the developer agreement.\n",
    "   \n",
    "    <img src=\"https://antonioscardace.altervista.org/smm/success.png\" alt=\"tutorial image\" style=\"width: 550px; margin: 10px 0; border: 1px solid #555\"/>\n",
    "    \n",
    "8.  After that, to start you will be asked to create your own app (don't worry about the name, you can change it whenever you want) and you will must specify what it will does.\n",
    "9.  You should be able now to see your app in the [list](https://developer.twitter.com/en/portal/dashboard). If you open it, you should find your keys and your tokens (*these values should be kept secret*):\n",
    "   - Access Token\n",
    "   - Access Token Secret\n",
    "   - API Key\n",
    "   - API Key Secret\n",
    "   - Bearer Token\n",
    "\n",
    "You can now see your own [dashboard](https://developer.twitter.com/en/portal/dashboard). Here you will have the list of your apps, the monthly tweet cap usage, tutorials, documentation, etc.\n",
    "  \n",
    "<img src=\"https://antonioscardace.altervista.org/smm/dashboard.png\" alt=\"tutorial image\" style=\"width: 1100px; margin: 10px 0; border: 1px solid #555\"/>"
   ]
  },
  {
   "cell_type": "markdown",
   "id": "ff6d8f81",
   "metadata": {},
   "source": [
    "## REST APIs\n",
    "Developers can intercat with APIs in two ways (both return a JSON response):\n",
    "\n",
    "- **via some library** \n",
    "  - I have used [python-twitter](https://python-twitter.readthedocs.io/). It provides a lot of methods which return well-formed objects (User, Tweet, or Geo). For more info about objects structure [see here](https://developer.twitter.com/en/docs/twitter-api/v1/data-dictionary/object-model/tweet).\n",
    "  - To install it you can read [this guide](https://python-twitter.readthedocs.io/en/latest/installation.html).\n",
    "  - Then you can import the library in your code: ``import twitter``.\n",
    "  - You can initialize an object with your keys and tokens: ``api = twitter.Api(CONSUMER_KEY, CONSUMER_SECRET, ACCESS_TOKEN_KEY, ACCESS_TOKEN_SECRET)``.\n",
    "  - And you can use any methods you want. Take a look [here](https://python-twitter.readthedocs.io/en/latest/twitter.html#module-twitter.api). For example, to get user info by his handle: ``user_info = api.GetUser(screen_name=username)``.\n",
    "- **via HTTP requests**\n",
    "  - This method consists in send a GET request to the API URL. You can do this either via a programming language or via the terminal ``curl`` command. For more info, take a look [here for user requests](https://developer.twitter.com/en/docs/twitter-api/users/lookup/api-reference) and [here for tweet requests](https://developer.twitter.com/en/docs/twitter-api/tweets/timelines/api-reference/get-users-id-tweets#cURL).\n",
    "  - To do that in Python, you need to import the pre-installed library: ``import requests``.\n",
    "  - You need also to make a dictionary ``headers = {'Authorization': \"Bearer \" + BEARER_TOKEN}`` useful to authentication.\n",
    "  - Optionally, if you need to specify parameters, you can create a list or a tuple to set them. For example: ``params = (('start_time', '2021-11-08T12:30:00.000Z'), ('tweet.fields', 'public_metrics,created_at'))``.\n",
    "  - Now you can make a request. For example to get all user tweets by its id: ``response = requests.get(f'https://api.twitter.com/2/users/{user_id}/tweets', headers=headers, params=params)``.\n",
    "  \n",
    "Here are two examples of **JSON response** (same for both the python library and the HTTP request).\n",
    "\n",
    "The first concerns a user (**User Object**):\n",
    "\n",
    "```json\n",
    "{\n",
    "    \"created_at\":\"Thu May 15 16:02:50 +0000 2014\",\n",
    "    \"default_profile\":true,\n",
    "    \"description\":\"Nobody queues for a flat rollercoaster.\",\n",
    "    \"followers_count\":4,\n",
    "    \"friends_count\":12,\n",
    "    \"id\":2496639410,\n",
    "    \"id_str\":\"2496639410\",\n",
    "    \"location\":\"Catania, Italy\",\n",
    "    \"name\":\"Antonio Scardace\",\n",
    "    \"profile_background_color\":\"C0DEED\",\n",
    "    \"profile_background_image_url\":\"http://abs.twimg.com/images/themes/theme1/bg.png\",\n",
    "    \"profile_background_image_url_https\":\"https://abs.twimg.com/images/themes/theme1/bg.png\",\n",
    "    \"profile_banner_url\":\"https://pbs.twimg.com/profile_banners/2496639410/1635458144\",\n",
    "    \"profile_image_url\":\"http://pbs.twimg.com/profile_images/1453842947967967232/O6Dd9UQt_normal.jpg\",\n",
    "    \"profile_image_url_https\":\"https://pbs.twimg.com/profile_images/1453842947967967232/O6Dd9UQt_normal.jpg\",\n",
    "    \"profile_link_color\":\"1DA1F2\",\n",
    "    \"profile_sidebar_border_color\":\"C0DEED\",\n",
    "    \"profile_sidebar_fill_color\":\"DDEEF6\",\n",
    "    \"profile_text_color\":\"333333\",\n",
    "    \"profile_use_background_image\":true,\n",
    "    \"screen_name\":\"ScardaceAntonio\",\n",
    "    \"url\":\"https://t.co/YvcRYmdJH7\",\n",
    "    \"withheld_in_countries\":[\n",
    "        \n",
    "    ]\n",
    "}\n",
    "```\n",
    "\n",
    "The second concerns a set of two tweets from Bill Gates.<br/>\n",
    "When we request a set of tweets, Twitter returns us a dictionary. In the field '*data*' we can find a list of zero or more elements: each element is a **Tweet Object**.\n",
    "\n",
    "```json\n",
    "{\n",
    "    \"data\":[\n",
    "        {\n",
    "            \"text\":\".@Breakthrough Energy Catalyst is bringing together ...\",\n",
    "            \"public_metrics\":{\n",
    "                \"retweet_count\":71,\n",
    "                \"reply_count\":0,\n",
    "                \"like_count\":456,\n",
    "                \"quote_count\":14\n",
    "            },\n",
    "            \"created_at\":\"2021-11-02T20:24:54.000Z\",\n",
    "            \"id\":\"1455632027596644354\"\n",
    "        },\n",
    "        {\n",
    "            \"text\":\"Encouraged to discuss with PM @narendramodi on the sidelines of #COP26...\",\n",
    "            \"public_metrics\":{\n",
    "                \"retweet_count\":242,\n",
    "                \"reply_count\":0,\n",
    "                \"like_count\":2037,\n",
    "                \"quote_count\":29\n",
    "            },\n",
    "            \"created_at\":\"2021-11-02T16:46:29.000Z\",\n",
    "            \"id\":\"1455577063822282758\"\n",
    "        }\n",
    "    ],\n",
    "    \"meta\":{\n",
    "        \"oldest_id\":\"1455577063822282758\",\n",
    "        \"newest_id\":\"1455632027596644354\",\n",
    "        \"result_count\":2,\n",
    "        \"next_token\":\"7140dibdnow9c7btw3z2vq5p0meda2ajwno7q083zxe7s\"\n",
    "    }\n",
    "}\n",
    "```"
   ]
  },
  {
   "cell_type": "markdown",
   "id": "846b0a78",
   "metadata": {},
   "source": [
    "## Source Code\n",
    "\n",
    "First, you have to import all the modules you need:\n",
    "- ``twitter`` provides a pure Python interface for the Twitter API.\n",
    "- ``requests`` allows to send HTTP requests in a very easy way.\n",
    "- ``numpy`` adds support for big arrays and matrices, along with a large collection of math functions.\n",
    "- ``pandas`` helps with data manipulation and analysis through charts and tables."
   ]
  },
  {
   "cell_type": "code",
   "execution_count": 1,
   "id": "152917b9",
   "metadata": {},
   "outputs": [],
   "source": [
    "import twitter\n",
    "import requests\n",
    "\n",
    "import numpy as np\n",
    "import pandas as pd\n",
    "\n",
    "from dateutil import parser\n",
    "from datetime import datetime, timedelta"
   ]
  },
  {
   "cell_type": "markdown",
   "id": "958e9a6c",
   "metadata": {},
   "source": [
    "Then, you should set a group of constants with your keys value."
   ]
  },
  {
   "cell_type": "code",
   "execution_count": 2,
   "id": "26fd00f6",
   "metadata": {},
   "outputs": [],
   "source": [
    "CONSUMER_KEY = '...'\n",
    "CONSUMER_SECRET = '......'\n",
    "ACCESS_TOKEN_KEY = '.........'\n",
    "ACCESS_TOKEN_SECRET = '.........'\n",
    "BEARER_TOKEN = '.......................................'"
   ]
  },
  {
   "cell_type": "markdown",
   "id": "9b11f1b8",
   "metadata": {},
   "source": [
    "For convenience, to write a more readble code, I implemented a set of methods useful to work with dates."
   ]
  },
  {
   "cell_type": "code",
   "execution_count": 3,
   "id": "0793cffc",
   "metadata": {},
   "outputs": [],
   "source": [
    "def checkIsoByDate(t, n):\n",
    "    return abs((parser.parse(t[:-1]) - datetime.now()).days) <= n\n",
    "\n",
    "def convertToIso(t):\n",
    "    return t.isoformat(\"T\") + \"Z\"\n",
    "    \n",
    "def removeMicroseconds(t):\n",
    "    return t.replace(microsecond=0)\n",
    "    \n",
    "def withinDays(n):\n",
    "    return convertToIso(removeMicroseconds(datetime.now() - timedelta(days = n)))\n",
    "\n",
    "def withinWeeks(n):\n",
    "    return convertToIso(removeMicroseconds(datetime.now() - timedelta(weeks = n)))\n",
    "\n",
    "def withinDate(date):\n",
    "    return convertToIso(datetime.strptime(date, '%Y-%m-%d %H:%M:%S.%f'))"
   ]
  },
  {
   "cell_type": "markdown",
   "id": "2beef732",
   "metadata": {},
   "source": [
    "Additionally, I created a set of classes to make a good code (readble and reliable).\n",
    "\n",
    "**TwitterAPI** &#8594; Implements methods for connection, authentication, and for fetch users and tweets data. All via REST APIs.\n",
    "- ``getUserByHandle(handle)`` &#8594; Gets user info by his handle (*e.g. @JohnDoe*).\n",
    "- ``getUserById(id)`` &#8594; Gets user info by its id (*e.g. 1234*).\n",
    "- ``getTweetsById(id)`` &#8594; Gets user tweets by its id (*e.g. 1234*). Furthermore, Twitter allows us to gets only tweets which respects the entire set of parameters. They can be many, but in this case we have chosen:\n",
    "    - **max_results** **∈ [5, 100] per distinct request**, specifies the number of Tweets to try and retrieve.\n",
    "    - **tweet.fields** enables developers to select which specific Tweet fields (except *id* and *text*) will deliver in each returned Tweet object (*e.g. likes, retweets, etc*).\n",
    "    - **start_time** specifies we want to retrieve just tweets posted after a specific date."
   ]
  },
  {
   "cell_type": "code",
   "execution_count": 4,
   "id": "7406fc49",
   "metadata": {},
   "outputs": [],
   "source": [
    "class TwitterAPI:\n",
    "\n",
    "    def __init__(self):\n",
    "        self.api = twitter.Api(CONSUMER_KEY, CONSUMER_SECRET, ACCESS_TOKEN_KEY, ACCESS_TOKEN_SECRET)\n",
    "    \n",
    "    def getTweetsById(self, id):\n",
    "        headers = { 'Authorization': \"Bearer \" + BEARER_TOKEN }\n",
    "        params = (\n",
    "            ('max_results', '100'),\n",
    "            ('tweet.fields', 'public_metrics,created_at'),\n",
    "            ('start_time', withinWeeks(1))\n",
    "        )\n",
    "        \n",
    "        response = requests.get(f'https://api.twitter.com/2/users/{id}/tweets', headers=headers, params=params)\n",
    "        return response.json()\n",
    "    \n",
    "    def getUserByHandle(self, username):\n",
    "        return self.api.GetUser(screen_name=username)\n",
    "    \n",
    "    def getUserById(self, id):\n",
    "        return self.api.GetUser(user_id=id)"
   ]
  },
  {
   "cell_type": "markdown",
   "id": "fb19825d",
   "metadata": {},
   "source": [
    "**Politician** &#8594; Represents the entity of the Politician. It only provides methods for obtaining info from a politician tweets\n",
    "- ``__getTweets()`` &#8594; Is a private method. Returns to other methods a list of Tweet objects.\n",
    "- ``getNumberOfTweets()`` &#8594; Returns the number of tweets retrieved.\n",
    "- ``getSumOfTextLength()`` &#8594; Sums the length of all tweet texts.\n",
    "- ``getSumOfMetric(metric)`` &#8594; Based on the parameter, it sums the values of a specific tweet metric (e.g. sum of all likes).\n",
    "- ``getTweetsFromYesterday()`` &#8594; Returns the number of tweets posted within 24 hours.\n",
    "- ``getTweetsFromWeek()`` &#8594; Returns the number of tweets posted within 7 days.\n",
    "- ``hasTweets()`` &#8594; Checks if the politician has posted some tweets.\n",
    "- ``setTweets(info)`` &#8594; Associates the tweets to the politician."
   ]
  },
  {
   "cell_type": "code",
   "execution_count": 5,
   "id": "77f7a843",
   "metadata": {},
   "outputs": [],
   "source": [
    "class Politician:\n",
    "    \n",
    "    def __init__(self, info):\n",
    "        self.description = info.description\n",
    "        self.followers = info.followers_count\n",
    "        self.following = info.friends_count\n",
    "        self.handle = info.screen_name\n",
    "        self.id = info.id_str\n",
    "        self.name = info.name\n",
    "\n",
    "    def __getTweets(self):\n",
    "        return self.__tweets['data']\n",
    "        \n",
    "    def getNumberOfTweets(self):\n",
    "        return self.__tweets['meta']['result_count']    \n",
    "\n",
    "    def getSumOfTextLength(self):\n",
    "        return sum(len(tweet['text']) for tweet in self.__getTweets())\n",
    "\n",
    "    def getSumOfMetric(self, metric):\n",
    "        return sum(tweet['public_metrics'][metric] for tweet in self.__getTweets())\n",
    "\n",
    "    def getTweetsFromYesterday(self):\n",
    "        return sum(checkIsoByDate(tweet['created_at'], 1) for tweet in self.__getTweets())\n",
    "\n",
    "    def getTweetsFromWeek(self):\n",
    "        return sum(checkIsoByDate(tweet['created_at'], 7) for tweet in self.__getTweets())\n",
    "    \n",
    "    def hasTweets(self):\n",
    "        return self.getNumberOfTweets() > 0\n",
    "    \n",
    "    def setTweets(self, tweets):\n",
    "        self.__tweets = tweets"
   ]
  },
  {
   "cell_type": "markdown",
   "id": "bec05a73",
   "metadata": {},
   "source": [
    "In Italy we have mainly two political orientation: Left and Right.\n",
    "- **Left** is the component of the Parliament that sits to the left of the President of the Legislative Assembly and, in general, the set of political positions qualified as progressive and egalitarian.\n",
    "- **Right** is the component of the Parliament that sits to the right of the President of the Legislative Assembly and, in general, the set of political positions qualified as conservatives and nationalists.\n",
    "\n",
    "At the moment, there are two main parties which represent the Left wing: **Democratic Party** and **Five Star Movement**; and three main parties which represent the Right wing: **Brothers of Italy**, **Northern League**, **Forward Italy**.\n",
    "\n",
    "**PoliticalWing** &#8594; Represents the entity of the Political Wing (political orientation) and collect their respective politicians. It only provides methods of obtaining statistics from a set of politicians tweets.\n",
    "- ``__getAvg()`` &#8594; Is a private method. Based on the parameter, it calculates the average of a set of info of the politicians tweets.\n",
    "- ``getAvgLikes()`` &#8594; Returns the average number of likes.\n",
    "- ``getAvgReplies()`` &#8594; Returns the average number of replies.\n",
    "- ``getAvgRetweets()`` &#8594; Returns the average number of retweets.\n",
    "- ``getAvgQuotes()`` &#8594; Returns the average number of quotes.\n",
    "- ``getAvgTweetsLen()`` &#8594; Returns the average length of tweets.\n",
    "- ``getTotalFollowers()`` &#8594; Returns the sum of the followers of each politician.\n",
    "- ``getTweetsPerDay()`` &#8594; Returns the number of tweets posted by all politicans within a day.\n",
    "- ``getTweetsPerWeek()`` &#8594; Returns the number of tweets posted by all politicans within a week.\n",
    "- ``insertPolitician()`` &#8594; Inserts a new politician into the set"
   ]
  },
  {
   "cell_type": "code",
   "execution_count": 6,
   "id": "67206abe",
   "metadata": {},
   "outputs": [],
   "source": [
    "class PoliticalWing:\n",
    "\n",
    "    def __init__(self):\n",
    "        self.__politicians = set()\n",
    "    \n",
    "    def __getAvg(self, metric=None):\n",
    "        avg = 0\n",
    "        \n",
    "        for p in self.__politicians:\n",
    "            if p.hasTweets():\n",
    "                summation = p.getSumOfTextLength() if metric is None else p.getSumOfMetric(metric)\n",
    "                avg += summation / p.getNumberOfTweets()\n",
    "                \n",
    "        return avg // len(self.__politicians)\n",
    "    \n",
    "    def getAvgLikes(self):\n",
    "        return self.__getAvg('like_count')\n",
    "    \n",
    "    def getAvgReplies(self):\n",
    "        return self.__getAvg('reply_count')\n",
    "    \n",
    "    def getAvgRetweets(self):\n",
    "        return self.__getAvg('retweet_count')\n",
    "    \n",
    "    def getAvgQuotes(self):\n",
    "        return self.__getAvg('quote_count')\n",
    "\n",
    "    def getAvgTweetsLen(self):\n",
    "        return self.__getAvg()\n",
    "\n",
    "    def getTotalFollowers(self):\n",
    "        return sum(p.followers for p in self.__politicians)\n",
    "    \n",
    "    def getTweetsPerDay(self):\n",
    "        return sum(p.getTweetsFromYesterday() for p in self.__politicians if p.hasTweets())\n",
    "\n",
    "    def getTweetsPerWeek(self):\n",
    "        return sum(p.getTweetsFromWeek() for p in self.__politicians if p.hasTweets())\n",
    "\n",
    "    def insertPolitician(self, p):\n",
    "        self.__politicians.add(p)"
   ]
  },
  {
   "cell_type": "markdown",
   "id": "c29ad2a1",
   "metadata": {},
   "source": [
    "## Data Extraction\n",
    "Once declared all classes, we can fetch data.\n",
    "\n",
    "First, we connect and authenticate. Then, we read all the names of left-wing and right-wing politicians from their respective text files. After that, we retrieve the information and tweets of each politician to insert it within the respective PoliticalWing object."
   ]
  },
  {
   "cell_type": "code",
   "execution_count": 7,
   "id": "a64532e5",
   "metadata": {
    "scrolled": true
   },
   "outputs": [],
   "source": [
    "api = TwitterAPI()\n",
    "\n",
    "left = PoliticalWing()\n",
    "right = PoliticalWing()\n",
    "\n",
    "left_file = open('texts/left.txt', 'r')\n",
    "right_file = open('texts/right.txt', 'r')\n",
    "\n",
    "left_handles = left_file.readlines()\n",
    "right_handles = right_file.readlines()\n",
    "\n",
    "left_file.close()\n",
    "right_file.close()\n",
    "\n",
    "for pHandle in left_handles:\n",
    "    pLeft = Politician(api.getUserByHandle(pHandle))\n",
    "    pLeft.setTweets(api.getTweetsById(pLeft.id))\n",
    "    left.insertPolitician(pLeft)\n",
    "    \n",
    "for pHandle in right_handles:\n",
    "    pRight = Politician(api.getUserByHandle(pHandle))\n",
    "    pRight.setTweets(api.getTweetsById(pRight.id))\n",
    "    right.insertPolitician(pRight)"
   ]
  },
  {
   "cell_type": "markdown",
   "id": "7e7faab3",
   "metadata": {},
   "source": [
    "## Data Analysis and Statistics\n",
    "\n",
    "Now we will be working and displaying data:\n",
    "- a table to display all stats (it is useful for checking calculations).\n",
    "- a pie chart to visualize the difference between the number of tweets per day posted by Left-Wing and Right-Wing politicians.\n",
    "- a bar graphic to visualize all weighted statistics by the total number of tweets.\n",
    "- a bar graphic to visualize all weighted statistics by the total number of tweets and the respective number of followers."
   ]
  },
  {
   "cell_type": "code",
   "execution_count": 8,
   "id": "858d35f4",
   "metadata": {},
   "outputs": [
    {
     "data": {
      "text/html": [
       "<div>\n",
       "<style scoped>\n",
       "    .dataframe tbody tr th:only-of-type {\n",
       "        vertical-align: middle;\n",
       "    }\n",
       "\n",
       "    .dataframe tbody tr th {\n",
       "        vertical-align: top;\n",
       "    }\n",
       "\n",
       "    .dataframe thead th {\n",
       "        text-align: right;\n",
       "    }\n",
       "</style>\n",
       "<table border=\"1\" class=\"dataframe\">\n",
       "  <thead>\n",
       "    <tr style=\"text-align: right;\">\n",
       "      <th></th>\n",
       "      <th>Total Followers</th>\n",
       "      <th>Tweets Per Day</th>\n",
       "      <th>Tweets Per Week</th>\n",
       "      <th>AVG Likes</th>\n",
       "      <th>AVG Retweets</th>\n",
       "      <th>AVG Replies</th>\n",
       "      <th>AVG Quotes</th>\n",
       "      <th>AVG Tweets Length</th>\n",
       "    </tr>\n",
       "  </thead>\n",
       "  <tbody>\n",
       "    <tr>\n",
       "      <th>Left</th>\n",
       "      <td>3506442</td>\n",
       "      <td>15</td>\n",
       "      <td>129</td>\n",
       "      <td>349.0</td>\n",
       "      <td>82.0</td>\n",
       "      <td>97.0</td>\n",
       "      <td>10.0</td>\n",
       "      <td>178.0</td>\n",
       "    </tr>\n",
       "    <tr>\n",
       "      <th>Right</th>\n",
       "      <td>3670801</td>\n",
       "      <td>167</td>\n",
       "      <td>283</td>\n",
       "      <td>418.0</td>\n",
       "      <td>86.0</td>\n",
       "      <td>136.0</td>\n",
       "      <td>11.0</td>\n",
       "      <td>169.0</td>\n",
       "    </tr>\n",
       "  </tbody>\n",
       "</table>\n",
       "</div>"
      ],
      "text/plain": [
       "       Total Followers  Tweets Per Day  Tweets Per Week  AVG Likes  \\\n",
       "Left           3506442              15              129      349.0   \n",
       "Right          3670801             167              283      418.0   \n",
       "\n",
       "       AVG Retweets  AVG Replies  AVG Quotes  AVG Tweets Length  \n",
       "Left           82.0         97.0        10.0              178.0  \n",
       "Right          86.0        136.0        11.0              169.0  "
      ]
     },
     "execution_count": 8,
     "metadata": {},
     "output_type": "execute_result"
    }
   ],
   "source": [
    "dataForStatsTable = {\n",
    "    'Total Followers': [left.getTotalFollowers(), right.getTotalFollowers()],\n",
    "    'Tweets Per Day': [left.getTweetsPerDay(), right.getTweetsPerDay()],\n",
    "    'Tweets Per Week': [left.getTweetsPerWeek(), right.getTweetsPerWeek()],\n",
    "    'AVG Likes': [left.getAvgLikes(), right.getAvgLikes()],\n",
    "    'AVG Retweets': [left.getAvgRetweets(), right.getAvgRetweets()],\n",
    "    'AVG Replies': [left.getAvgReplies(), right.getAvgReplies()],\n",
    "    'AVG Quotes': [left.getAvgQuotes(), right.getAvgQuotes()],\n",
    "    'AVG Tweets Length': [left.getAvgTweetsLen(), right.getAvgTweetsLen()],\n",
    " }\n",
    "\n",
    "statsTable = pd.DataFrame(dataForStatsTable, index = ['Left', 'Right'])\n",
    "statsTable"
   ]
  },
  {
   "cell_type": "code",
   "execution_count": 9,
   "id": "b9577ab9",
   "metadata": {},
   "outputs": [
    {
     "data": {
      "image/png": "[encoded data removed]",
      "text/plain": [
       "<Figure size 432x432 with 1 Axes>"
      ]
     },
     "metadata": {},
     "output_type": "display_data"
    }
   ],
   "source": [
    "dataChart = np.array([ left.getTweetsPerDay(), right.getTweetsPerDay() ])\n",
    "s = pd.Series(dataChart, name = '')\n",
    "\n",
    "s.plot.pie (\n",
    "    labels = ['LEFT', 'RIGHT'],\n",
    "    colors = ['r', 'b'],\n",
    "    autopct = \"%.2f\",\n",
    "    fontsize = 14,\n",
    "    figsize = (6, 6),\n",
    ");"
   ]
  },
  {
   "cell_type": "code",
   "execution_count": 10,
   "id": "065afd2c",
   "metadata": {},
   "outputs": [
    {
     "data": {
      "image/png": "[encoded data removed]",
      "text/plain": [
       "<Figure size 1296x576 with 1 Axes>"
      ]
     },
     "metadata": {
      "needs_background": "light"
     },
     "output_type": "display_data"
    }
   ],
   "source": [
    "left_data = [\n",
    "    left.getTotalFollowers() / 10000,\n",
    "    left.getTweetsPerDay(),\n",
    "    left.getTweetsPerWeek(),\n",
    "    left.getAvgLikes(),\n",
    "    left.getAvgRetweets(),\n",
    "    left.getAvgReplies(),\n",
    "    left.getAvgQuotes(),\n",
    "    left.getAvgTweetsLen()\n",
    "]\n",
    "\n",
    "right_data = [\n",
    "    right.getTotalFollowers() / 10000,\n",
    "    right.getTweetsPerDay(),\n",
    "    right.getTweetsPerWeek(),\n",
    "    right.getAvgLikes(),\n",
    "    right.getAvgRetweets(),\n",
    "    right.getAvgReplies(),\n",
    "    right.getAvgQuotes(),\n",
    "    right.getAvgTweetsLen()\n",
    "]\n",
    "\n",
    "indexData = [\n",
    "    'Followers',\n",
    "    'Tweets/Day',\n",
    "    'Tweets/Week',\n",
    "    'AVG Likes',\n",
    "    'AVG Retweets',\n",
    "    'AVG Replies',\n",
    "    'AVG Quotes',\n",
    "    'AVG Tweet Length'\n",
    "]\n",
    "\n",
    "graphic = pd.DataFrame({'Left': left_data, 'Right': right_data}, index=indexData)\n",
    "graphic.plot.bar(color=['r', 'b'], fontsize = 13, figsize=(18,8), rot=0);"
   ]
  },
  {
   "cell_type": "code",
   "execution_count": 11,
   "id": "e33efe87",
   "metadata": {},
   "outputs": [
    {
     "data": {
      "image/png": "[encoded data removed]",
      "text/plain": [
       "<Figure size 648x576 with 1 Axes>"
      ]
     },
     "metadata": {
      "needs_background": "light"
     },
     "output_type": "display_data"
    }
   ],
   "source": [
    "left_weighted_data = [\n",
    "    (left.getAvgLikes() / left.getTotalFollowers()) * 100000,\n",
    "    (left.getAvgRetweets() / left.getTotalFollowers()) * 100000,\n",
    "    (left.getAvgReplies() / left.getTotalFollowers()) * 100000,\n",
    "    (left.getAvgQuotes() / left.getTotalFollowers()) * 100000\n",
    "]\n",
    "\n",
    "right_weighted_data = [\n",
    "    (right.getAvgLikes() / right.getTotalFollowers()) * 100000,\n",
    "    (right.getAvgRetweets() / right.getTotalFollowers()) * 100000,\n",
    "    (right.getAvgReplies() / right.getTotalFollowers()) * 100000,\n",
    "    (right.getAvgQuotes() / right.getTotalFollowers()) * 100000\n",
    "]\n",
    "\n",
    "indexWeightedData = [\n",
    "    'AVG Likes',\n",
    "    'AVG Retweets',\n",
    "    'AVG Replies',\n",
    "    'AVG Quotes'\n",
    "]\n",
    "\n",
    "graphic_w = pd.DataFrame({'Left': left_weighted_data, 'Right': right_weighted_data}, index=indexWeightedData)\n",
    "graphic_w.plot.bar(color=['r', 'b'], fontsize = 13, figsize=(9,8), rot=0);"
   ]
  },
  {
   "cell_type": "markdown",
   "id": "d9764b14",
   "metadata": {},
   "source": [
    "For what we have just seen, we can say that:\n",
    "- **Left-Wing** politicians are the ones who write more text in their tweets. Moreover, their voters are not as present and active as the Right-Wing voters.\n",
    "- **Right-Wing** politicians are the ones who post more tweets. Probably, they are also the ones who invest the most in Social Media Management. Like the famous \"La Bestia\" (The Beast) of Matteo Salvini and of his party."
   ]
  },
  {
   "cell_type": "markdown",
   "id": "dfef1f78",
   "metadata": {},
   "source": [
    "## Conclusion and Future Works\n",
    "To sum up: in my experience Twitter has an excellent APIs system, a great developer portal, and an extensive documentation (documentation, library tools, tutorials, etc.). They provide also an efficient developers community. In my opinion, a great feature of Twitter APIs, is that they are free and allows developers to retreive almost any data - obviously there are a little bit of restrictions available just by premium accounts.\n",
    "\n",
    "I will continue this work as a Machine Learning project to understand if, given an italian politician Twitter profile, he/she belongs to the Left-Wing or the Right-Wing.\n",
    "To do that, I will also create a MySQL database to store my dataset and make more accurate stats. In order to have a big dataset, I will store all tweets every day for almost three months."
   ]
  }
 ],
 "metadata": {
  "interpreter": {
   "hash": "b7dac55ea79ff990472b3fd73a3a4712c78dbca80cb44a0afa7f2ba3801ae5a9"
  },
  "kernelspec": {
   "display_name": "Python 3",
   "language": "python",
   "name": "python3"
  },
  "language_info": {
   "codemirror_mode": {
    "name": "ipython",
    "version": 3
   },
   "file_extension": ".py",
   "mimetype": "text/x-python",
   "name": "python",
   "nbconvert_exporter": "python",
   "pygments_lexer": "ipython3",
   "version": "3.8.8"
  }
 },
 "nbformat": 4,
 "nbformat_minor": 5
}
